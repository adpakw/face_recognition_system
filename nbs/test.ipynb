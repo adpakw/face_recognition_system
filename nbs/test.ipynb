{
 "cells": [
  {
   "cell_type": "code",
   "execution_count": 1,
   "id": "decb78e1",
   "metadata": {},
   "outputs": [],
   "source": [
    "import os \n",
    "\n",
    "os.chdir(os.path.abspath(os.path.pardir))"
   ]
  },
  {
   "cell_type": "code",
   "execution_count": 2,
   "id": "b7dcf63b",
   "metadata": {},
   "outputs": [],
   "source": [
    "from app.models.arcface import ArcFace\n",
    "import cv2"
   ]
  },
  {
   "cell_type": "code",
   "execution_count": null,
   "id": "e7185942",
   "metadata": {},
   "outputs": [
    {
     "name": "stdout",
     "output_type": "stream",
     "text": [
      "Using device: cuda\n"
     ]
    },
    {
     "name": "stderr",
     "output_type": "stream",
     "text": [
      "/home/adpakw/face_recognition_system/app/models/arcface.py:19: FutureWarning: You are using `torch.load` with `weights_only=False` (the current default value), which uses the default pickle module implicitly. It is possible to construct malicious pickle data which will execute arbitrary code during unpickling (See https://github.com/pytorch/pytorch/blob/main/SECURITY.md#untrusted-models for more details). In a future release, the default value for `weights_only` will be flipped to `True`. This limits the functions that could be executed during unpickling. Arbitrary objects will no longer be allowed to be loaded via this mode unless they are explicitly allowlisted by the user via `torch.serialization.add_safe_globals`. We recommend you start setting `weights_only=True` for any use case where you don't have full control of the loaded file. Please open an issue on GitHub for any issues related to this experimental feature.\n",
      "  weight = torch.load(path, map_location=self.device)\n",
      "/home/adpakw/face_recognition_system/app/models/resnet.py:179: FutureWarning: `torch.cuda.amp.autocast(args...)` is deprecated. Please use `torch.amp.autocast('cuda', args...)` instead.\n",
      "  with torch.cuda.amp.autocast(self.fp16):\n"
     ]
    },
    {
     "data": {
      "text/plain": [
       "(512,)"
      ]
     },
     "execution_count": 4,
     "metadata": {},
     "output_type": "execute_result"
    }
   ],
   "source": [
    "model = ArcFace()\n",
    "\n",
    "frame = cv2.imread(\"data/known_faces/fivanov/0.png\")\n",
    "frame_rgb = cv2.cvtColor(frame, cv2.COLOR_BGR2RGB)\n",
    "model.get_embeddings(frame_rgb)"
   ]
  },
  {
   "cell_type": "code",
   "execution_count": 21,
   "id": "07702f69",
   "metadata": {},
   "outputs": [
    {
     "name": "stderr",
     "output_type": "stream",
     "text": [
      "/home/adpakw/face_recognition_system/app/models/arcface.py:235: FutureWarning: You are using `torch.load` with `weights_only=False` (the current default value), which uses the default pickle module implicitly. It is possible to construct malicious pickle data which will execute arbitrary code during unpickling (See https://github.com/pytorch/pytorch/blob/main/SECURITY.md#untrusted-models for more details). In a future release, the default value for `weights_only` will be flipped to `True`. This limits the functions that could be executed during unpickling. Arbitrary objects will no longer be allowed to be loaded via this mode unless they are explicitly allowlisted by the user via `torch.serialization.add_safe_globals`. We recommend you start setting `weights_only=True` for any use case where you don't have full control of the loaded file. Please open an issue on GitHub for any issues related to this experimental feature.\n",
      "  weight = torch.load(path, map_location=device)\n"
     ]
    }
   ],
   "source": [
    "from app.models.arcface import iresnet_inference\n",
    "import torch\n",
    "from torchvision import transforms\n",
    "import cv2\n",
    "\n",
    "device = torch.device(\"cuda\" if torch.cuda.is_available() else \"cpu\")\n",
    "model_name=iresnet_inference(model_name=\"r50\", path=\"app/models/weights/arcface_r50.pth\", device=device)"
   ]
  },
  {
   "cell_type": "code",
   "execution_count": 22,
   "id": "c5d1e437",
   "metadata": {},
   "outputs": [],
   "source": [
    "face_image = cv2.imread(\"data/known_faces/fivanov/0.png\")\n",
    "\n",
    "face_preprocess = transforms.Compose(\n",
    "    [\n",
    "        transforms.ToTensor(),\n",
    "        transforms.Resize((112, 112)),\n",
    "        transforms.Normalize(mean=[0.5, 0.5, 0.5], std=[0.5, 0.5, 0.5]),\n",
    "    ]\n",
    ")\n",
    "\n",
    "# Convert to RGB\n",
    "face_image = cv2.cvtColor(face_image, cv2.COLOR_BGR2RGB)\n",
    "\n",
    "# Preprocess image (BGR)\n",
    "face_image = face_preprocess(face_image).unsqueeze(0).to(device)"
   ]
  },
  {
   "cell_type": "code",
   "execution_count": 23,
   "id": "397f681b",
   "metadata": {},
   "outputs": [
    {
     "name": "stderr",
     "output_type": "stream",
     "text": [
      "/home/adpakw/face_recognition_system/app/models/arcface.py:179: FutureWarning: `torch.cuda.amp.autocast(args...)` is deprecated. Please use `torch.amp.autocast('cuda', args...)` instead.\n",
      "  with torch.cuda.amp.autocast(self.fp16):\n"
     ]
    },
    {
     "data": {
      "text/plain": [
       "tensor([[-6.7820e-02, -3.4170e-02,  7.2756e-02, -1.0166e-01, -1.9393e-02,\n",
       "          1.8442e-02,  2.3693e-02,  6.9364e-02, -2.0947e-02, -1.7864e-02,\n",
       "          4.3696e-02,  2.6025e-03,  3.2982e-02, -1.4751e-02, -9.4906e-02,\n",
       "         -1.4314e-02,  1.9772e-02, -2.2277e-02, -3.5156e-02, -6.1136e-02,\n",
       "         -2.1064e-02,  8.5487e-03, -1.0753e-02,  5.1502e-02,  1.1430e-02,\n",
       "         -3.4735e-02, -1.9773e-02, -7.3209e-02, -1.2111e-01,  7.0895e-04,\n",
       "          3.3121e-02, -3.3836e-02, -4.2230e-02,  5.6676e-02, -2.6781e-05,\n",
       "          4.3762e-02, -3.8507e-03,  9.4061e-02,  2.7660e-03,  2.3946e-02,\n",
       "          9.5310e-02,  1.4432e-02, -1.5383e-02, -8.4411e-02, -8.5721e-02,\n",
       "          1.2557e-02, -1.7171e-02,  3.7884e-02, -3.8144e-02,  8.1790e-02,\n",
       "          3.2585e-02, -3.4699e-02, -8.1802e-02, -5.4096e-02,  3.3599e-02,\n",
       "         -2.4730e-02, -1.4193e-02, -2.0307e-02,  9.4441e-02, -4.9435e-03,\n",
       "          4.4557e-02,  1.3284e-02, -2.7074e-02, -3.2359e-02, -7.5917e-02,\n",
       "          2.9853e-02,  4.7427e-02, -3.4481e-02,  4.7554e-02,  7.6469e-03,\n",
       "          3.0748e-02, -2.1617e-02,  6.1613e-02,  4.3033e-02, -9.4102e-02,\n",
       "         -8.2248e-02, -1.4127e-02,  1.1864e-02,  2.8559e-04,  6.5350e-03,\n",
       "          2.4862e-02,  4.6073e-02, -2.1711e-02, -4.7053e-02,  3.4812e-02,\n",
       "         -1.3525e-04, -6.3362e-02,  6.9548e-02,  1.6424e-02,  2.1751e-02,\n",
       "         -4.2578e-02, -4.4354e-02, -3.2707e-02,  2.9657e-02,  8.1802e-04,\n",
       "          3.6425e-02,  1.9207e-02, -3.1355e-03, -4.5140e-02, -6.9851e-02,\n",
       "          5.8674e-02, -1.8599e-02,  3.1292e-02, -1.4208e-02,  2.3450e-02,\n",
       "         -9.9429e-02, -2.2676e-03, -3.6085e-02, -2.9601e-02, -2.6895e-02,\n",
       "          4.3185e-02, -4.5734e-02, -3.1770e-02, -4.0347e-02,  1.8020e-02,\n",
       "          6.1845e-02,  6.9375e-02,  3.0488e-02,  6.6191e-02,  5.2952e-02,\n",
       "          2.3870e-02, -4.7806e-02, -2.0479e-02,  9.6115e-03,  9.5530e-03,\n",
       "         -3.5081e-02,  1.1057e-02, -5.5242e-02,  7.7167e-02,  2.7338e-02,\n",
       "          8.7783e-03, -1.5218e-02,  6.8224e-02, -7.0929e-03, -9.7887e-03,\n",
       "          2.0705e-02,  1.2889e-03,  5.7958e-02,  6.8766e-02,  9.0386e-03,\n",
       "         -2.5986e-02,  5.5893e-03, -1.5537e-02,  5.1322e-02,  2.7944e-02,\n",
       "          7.9145e-02, -4.1491e-02, -3.4964e-02,  6.9926e-02, -1.0887e-02,\n",
       "          2.5554e-02,  6.5007e-02,  5.9577e-02,  1.0827e-01, -2.2280e-02,\n",
       "          3.8324e-02, -1.0968e-03, -2.1321e-02,  1.9852e-02,  4.0619e-02,\n",
       "          6.3081e-03, -6.6369e-02, -1.4049e-01, -2.6133e-02, -3.3551e-02,\n",
       "         -6.3045e-02, -1.1710e-02, -1.2874e-03, -6.6660e-02, -4.5963e-02,\n",
       "          1.6303e-02, -4.2273e-02,  1.7560e-02, -4.3484e-02,  8.6319e-03,\n",
       "          2.5371e-02,  6.3113e-02, -2.3861e-02,  9.0058e-03,  3.8686e-02,\n",
       "         -2.8454e-02,  4.7901e-02,  1.7149e-02,  7.0416e-02,  2.6416e-03,\n",
       "          7.4345e-02, -6.6926e-03,  6.1870e-02,  8.7055e-03,  1.0893e-02,\n",
       "         -1.5268e-02,  2.2968e-02,  5.1282e-02, -1.4561e-02,  7.2076e-02,\n",
       "          3.1460e-02, -3.4981e-02,  3.4952e-02, -1.7575e-02, -9.1900e-03,\n",
       "          2.1244e-02, -4.3801e-02, -1.0400e-02, -6.3557e-02,  5.4908e-02,\n",
       "         -1.2824e-02, -5.6084e-02,  7.4480e-02, -3.0714e-02,  2.7423e-02,\n",
       "         -2.4988e-02,  6.7320e-02, -2.3428e-02,  9.6083e-02,  1.0423e-01,\n",
       "         -1.3542e-02,  3.1902e-02,  3.7803e-02, -6.5701e-02,  6.5857e-02,\n",
       "         -2.0363e-02, -3.9301e-02, -3.3654e-02, -6.1148e-02, -1.9327e-02,\n",
       "         -4.7360e-02,  5.1046e-03, -2.8763e-02,  6.5546e-03,  3.2876e-02,\n",
       "         -1.1382e-02,  2.1756e-02, -6.5392e-02, -3.8338e-02, -1.2626e-02,\n",
       "          7.4646e-02, -9.0958e-02, -3.6654e-02,  6.4401e-02,  1.2830e-02,\n",
       "         -2.7395e-02, -3.8241e-02, -3.9288e-04,  1.3357e-02, -2.6450e-02,\n",
       "          3.6573e-02,  6.8705e-03,  1.0113e-01,  7.5814e-03, -6.7118e-02,\n",
       "          4.5217e-02,  5.5287e-02,  3.4362e-02, -3.0328e-03,  1.0510e-01,\n",
       "         -3.8673e-03, -8.5044e-02,  2.6458e-02, -6.5121e-03, -1.3350e-02,\n",
       "          1.9079e-02,  1.6983e-02, -3.1290e-02, -3.2298e-02,  2.0069e-02,\n",
       "         -4.3599e-02, -3.4396e-02, -2.9948e-03, -3.1456e-02, -8.2603e-02,\n",
       "          1.6474e-03, -8.8844e-02,  4.8211e-02,  2.6506e-03,  5.3957e-02,\n",
       "          4.3248e-02,  5.1083e-02, -8.0682e-02,  4.4468e-02, -7.4306e-03,\n",
       "         -5.8080e-02,  1.9900e-02,  4.0887e-03, -1.2731e-02, -7.8582e-03,\n",
       "         -7.2274e-02, -6.8749e-02, -6.4395e-02, -4.8375e-02,  3.1701e-02,\n",
       "         -4.1777e-02,  3.8986e-02,  3.3579e-02,  8.8864e-03,  6.0582e-02,\n",
       "         -4.8095e-02, -3.3108e-02,  2.0294e-02, -3.3668e-03, -7.6900e-02,\n",
       "         -6.4454e-02,  6.3670e-02,  3.7003e-02,  4.7513e-03, -7.5738e-02,\n",
       "          8.9914e-02, -2.8062e-02, -2.3867e-02,  3.5439e-03, -2.2585e-02,\n",
       "          2.4416e-02, -3.2365e-02, -1.7453e-02, -8.6766e-03,  1.5093e-02,\n",
       "         -2.2430e-02,  1.0499e-01, -3.6121e-02,  5.7161e-02,  3.5598e-02,\n",
       "          1.7373e-02,  1.5466e-02,  2.7501e-02,  2.0670e-02, -1.7079e-02,\n",
       "          4.7705e-02, -6.0381e-03, -2.0111e-02, -4.6163e-02, -3.9688e-03,\n",
       "         -4.8866e-02, -8.4891e-03,  2.2622e-02, -3.9683e-02,  4.5365e-02,\n",
       "          4.9112e-02, -1.4159e-02, -1.3900e-03, -4.8138e-02,  3.9029e-02,\n",
       "          1.1244e-02, -4.0016e-02, -2.9426e-02,  5.5268e-02,  5.6569e-02,\n",
       "         -2.9365e-02, -4.4783e-02,  3.5950e-02, -2.0356e-02, -8.0059e-02,\n",
       "         -1.4977e-02, -4.4195e-02,  8.1273e-03,  1.2030e-02, -1.4534e-02,\n",
       "         -3.1669e-02,  2.9350e-02, -2.4176e-02,  1.6642e-02, -3.8437e-02,\n",
       "         -5.4252e-02,  1.5470e-03, -3.3420e-03, -9.4104e-03,  8.7566e-02,\n",
       "         -4.4749e-02, -1.1064e-02, -3.8970e-02,  2.8446e-02,  6.5502e-02,\n",
       "          1.1138e-02, -2.1526e-02, -2.0537e-02, -7.1860e-02,  4.7817e-02,\n",
       "         -1.0899e-02, -1.5842e-02, -9.5712e-02,  3.7525e-02, -3.6358e-02,\n",
       "         -7.2214e-03,  7.3924e-03, -7.7635e-02,  1.4916e-02,  6.5819e-02,\n",
       "          1.3942e-02, -2.6978e-02, -5.9934e-02, -2.8211e-03, -4.4655e-02,\n",
       "          3.4196e-02,  8.6779e-02,  7.4185e-03,  3.1536e-02,  1.0681e-02,\n",
       "          4.2731e-02, -7.8571e-03,  6.0165e-02,  8.3486e-02, -6.2189e-03,\n",
       "          3.2981e-02, -5.2326e-02,  2.6518e-02,  5.3145e-02,  5.9907e-03,\n",
       "          4.6374e-03, -6.0448e-02,  8.8944e-02, -4.9706e-02, -2.7744e-02,\n",
       "         -2.4832e-02,  1.0764e-02, -5.0306e-02,  3.1213e-02,  1.9115e-02,\n",
       "          5.3534e-02, -4.3247e-02, -5.8771e-02, -2.9355e-02, -2.7663e-02,\n",
       "         -4.1170e-02,  8.3648e-02,  3.6921e-02,  6.9783e-02,  1.4031e-02,\n",
       "          9.8504e-04, -3.0467e-02,  1.0607e-01, -7.8479e-02,  6.8555e-02,\n",
       "         -3.4284e-03,  3.9531e-02, -1.7818e-02, -5.1061e-02, -3.3460e-02,\n",
       "         -5.7336e-02, -5.4711e-02, -3.4671e-03, -2.9639e-02, -4.9578e-02,\n",
       "          5.0849e-02,  1.8462e-02, -2.0437e-02,  5.2300e-02, -2.5397e-02,\n",
       "         -3.8246e-02, -2.8099e-02, -1.6443e-02, -3.1825e-02, -8.6904e-03,\n",
       "         -4.4931e-03, -1.6263e-02, -4.2983e-02,  1.3420e-02, -2.1654e-02,\n",
       "          2.1097e-02,  8.7507e-03,  1.4930e-04, -3.8283e-02,  2.6424e-02,\n",
       "          3.8813e-02, -6.7376e-02, -8.4684e-03,  1.2703e-02,  2.2594e-02,\n",
       "         -2.6680e-02, -1.5040e-02, -1.3868e-02,  1.5271e-02, -2.8923e-02,\n",
       "         -9.0231e-02,  2.2592e-02, -2.5156e-02,  6.6203e-02, -1.5873e-02,\n",
       "         -2.0621e-02,  3.5883e-02,  3.2372e-02, -8.3472e-03,  2.1265e-02,\n",
       "          5.4354e-02, -4.9733e-02, -6.9259e-02, -1.0924e-03,  1.9820e-02,\n",
       "         -1.5575e-02, -1.3471e-01, -2.5344e-02, -3.1008e-02,  2.5398e-02,\n",
       "         -3.6362e-03, -1.3138e-03,  2.3991e-02,  1.6111e-02, -7.3085e-02,\n",
       "          4.5443e-03, -1.4138e-03, -4.0926e-02, -3.1602e-02,  6.8791e-02,\n",
       "          1.1303e-02,  6.5060e-02, -7.5140e-02, -3.6319e-02,  7.8881e-02,\n",
       "         -2.2197e-02,  5.4099e-03,  1.7437e-02,  6.5376e-03,  1.4759e-02,\n",
       "         -6.8510e-02,  2.1468e-02]], device='cuda:0', grad_fn=<DivBackward0>)"
      ]
     },
     "execution_count": 23,
     "metadata": {},
     "output_type": "execute_result"
    }
   ],
   "source": [
    "model_name(face_image)"
   ]
  }
 ],
 "metadata": {
  "kernelspec": {
   "display_name": ".venv",
   "language": "python",
   "name": "python3"
  },
  "language_info": {
   "codemirror_mode": {
    "name": "ipython",
    "version": 3
   },
   "file_extension": ".py",
   "mimetype": "text/x-python",
   "name": "python",
   "nbconvert_exporter": "python",
   "pygments_lexer": "ipython3",
   "version": "3.12.3"
  }
 },
 "nbformat": 4,
 "nbformat_minor": 5
}
