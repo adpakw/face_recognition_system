{
 "cells": [
  {
   "cell_type": "code",
   "execution_count": 1,
   "id": "decb78e1",
   "metadata": {},
   "outputs": [],
   "source": [
    "import os \n",
    "\n",
    "os.chdir(os.path.abspath(os.path.pardir))"
   ]
  },
  {
   "cell_type": "code",
   "execution_count": 2,
   "id": "9cb8137c",
   "metadata": {},
   "outputs": [],
   "source": [
    "from app.clients.frame_finder import FrameFinder\n",
    "from app.metrics.iou import IOUCalculator\n",
    "from app.metrics.map import MAPCalculator\n",
    "from app.metrics.recognition_metrics import VideoIdentificationEvaluator"
   ]
  },
  {
   "cell_type": "code",
   "execution_count": null,
   "id": "090e5bef",
   "metadata": {},
   "outputs": [],
   "source": [
    "# Init frame finder\n",
    "\n",
    "json_files=[]\n",
    "folder_path = \"results/aaivoninskaya avzotova_4 anaalesuslova\"\n",
    "\n",
    "for filename in os.listdir(folder_path):\n",
    "    full_path = os.path.join(folder_path, filename)\n",
    "\n",
    "    if os.path.isfile(full_path) and filename.lower().endswith(\".json\"):\n",
    "        json_files.append(full_path)\n",
    "frame_finder = FrameFinder(json_files=json_files)"
   ]
  },
  {
   "cell_type": "code",
   "execution_count": null,
   "id": "8d06767f",
   "metadata": {},
   "outputs": [
    {
     "name": "stdout",
     "output_type": "stream",
     "text": [
      "Person detection metrics:\n",
      "IoU mean: 0.764 ± 0.078\n",
      "Count difference: 0.1\n",
      "\n",
      "Face detection metrics:\n",
      "IoU mean: 0.633 ± 0.109\n",
      "Count difference: -0.5\n"
     ]
    }
   ],
   "source": [
    "iou_calculator = IOUCalculator(\"annotations.xml\", frame_finder)\n",
    "\n",
    "stats = iou_calculator.get_summary_stats()\n",
    "\n",
    "print(\"Person detection metrics:\")\n",
    "print(f\"IoU mean: {stats['person_iou']['mean']:.3f} ± {stats['person_iou']['std']:.3f}\")\n",
    "print(f\"Count difference: {stats['person_count_diff']['mean']:.1f}\")\n",
    "\n",
    "print(\"\\nFace detection metrics:\")\n",
    "print(f\"IoU mean: {stats['face_iou']['mean']:.3f} ± {stats['face_iou']['std']:.3f}\")\n",
    "print(f\"Count difference: {stats['face_count_diff']['mean']:.1f}\")"
   ]
  },
  {
   "cell_type": "code",
   "execution_count": null,
   "id": "f576f113",
   "metadata": {},
   "outputs": [
    {
     "name": "stdout",
     "output_type": "stream",
     "text": [
      "Metrics:\n",
      "AP_face_bbox: 0.7712\n",
      "AP_person_bbox: 0.9936\n",
      "mAP: 0.8824\n"
     ]
    }
   ],
   "source": [
    "map_calculator = MAPCalculator(\"annotations.xml\", frame_finder, iou_threshold=0.5)\n",
    "\n",
    "metrics = map_calculator.calculate_map()\n",
    "\n",
    "print(\"Metrics:\")\n",
    "for class_name, value in metrics.items():\n",
    "    print(f\"{class_name}: {value:.4f}\")"
   ]
  },
  {
   "cell_type": "code",
   "execution_count": 7,
   "id": "7bb33d1f",
   "metadata": {},
   "outputs": [],
   "source": [
    "def generate_ground_truth(frame_patterns, total_frames: int):\n",
    "    pattern_frames = sorted(frame_patterns.keys())\n",
    "    patterns = [frame_patterns[frame] for frame in pattern_frames]\n",
    "    \n",
    "    ground_truth = {}\n",
    "    pattern_index = 0\n",
    "    \n",
    "    for frame in range(total_frames):\n",
    "        if frame in frame_patterns:\n",
    "            current_pattern = frame_patterns[frame]\n",
    "        else:\n",
    "            current_pattern = patterns[pattern_index % len(patterns)]\n",
    "            pattern_index += 1\n",
    "        \n",
    "        ground_truth[frame] = current_pattern\n",
    "    \n",
    "    return ground_truth"
   ]
  },
  {
   "cell_type": "code",
   "execution_count": null,
   "id": "55ea63de",
   "metadata": {},
   "outputs": [],
   "source": [
    "frame_patterns = {\n",
    "    # 0: [\"dkorolev\", \"mvmoiseev\", \"amzayakina\"],\n",
    "    # 0: [\"ogmenkov\"],\n",
    "    0: [\"aaivoninskaya\", \"avzotova_4\", \"anaalesuslova\"],\n",
    "    # 0: [\"saslastnikov1\"],\n",
    "\n",
    "    \n",
    "    \n",
    "    \n",
    "    # 15: [\"ikmityushkin\", \"dkorolev\", \"mvmoiseev\", \"amzayakina\"],\n",
    "    # 30: [\"\"dkorolev\", \"mvmoiseev\"\"]\n",
    "}\n",
    "\n",
    "# total_frames = 2880\n",
    "total_frames = 3600\n",
    "\n",
    "\n",
    "ground_truth = generate_ground_truth(frame_patterns, total_frames)"
   ]
  },
  {
   "cell_type": "code",
   "execution_count": null,
   "id": "c72a8d84",
   "metadata": {},
   "outputs": [],
   "source": [
    "evaluator = VideoIdentificationEvaluator(\n",
    "    known_identities=os.listdir(\"datasets/backup\"),\n",
    "    frame_finder=frame_finder\n",
    ")\n",
    "\n",
    "results = evaluator.process_video(ground_truth)\n",
    "\n",
    "evaluator.print_summary([\"aaivoninskaya\", \"avzotova_4\", \"anaalesuslova\"])"
   ]
  }
 ],
 "metadata": {
  "kernelspec": {
   "display_name": "py311_env",
   "language": "python",
   "name": "python3"
  },
  "language_info": {
   "codemirror_mode": {
    "name": "ipython",
    "version": 3
   },
   "file_extension": ".py",
   "mimetype": "text/x-python",
   "name": "python",
   "nbconvert_exporter": "python",
   "pygments_lexer": "ipython3",
   "version": "3.11.11"
  }
 },
 "nbformat": 4,
 "nbformat_minor": 5
}
