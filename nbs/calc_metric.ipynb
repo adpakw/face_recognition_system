{
 "cells": [
  {
   "cell_type": "code",
   "execution_count": null,
   "id": "decb78e1",
   "metadata": {},
   "outputs": [],
   "source": [
    "import os \n",
    "\n",
    "os.chdir(os.path.abspath(os.path.pardir))"
   ]
  },
  {
   "cell_type": "code",
   "execution_count": null,
   "id": "9cb8137c",
   "metadata": {},
   "outputs": [],
   "source": [
    "from app.clients.frame_finder import FrameFinder\n",
    "from app.metrics.iou import IOUCalculator\n",
    "from app.metrics.map import MAPCalculator\n",
    "from app.metrics.recognition_metrics import VideoIdentificationEvaluator"
   ]
  },
  {
   "cell_type": "code",
   "execution_count": null,
   "id": "090e5bef",
   "metadata": {},
   "outputs": [],
   "source": [
    "# Init frame finder\n",
    "\n",
    "json_files=[]\n",
    "folder_path = \"results/aaivoninskaya avzotova_4 anaalesuslova\"\n",
    "\n",
    "for filename in os.listdir(folder_path):\n",
    "    full_path = os.path.join(folder_path, filename)\n",
    "\n",
    "    if os.path.isfile(full_path) and filename.lower().endswith(\".json\"):\n",
    "        json_files.append(full_path)\n",
    "frame_finder = FrameFinder(json_files=json_files)"
   ]
  },
  {
   "cell_type": "code",
   "execution_count": null,
   "id": "8d06767f",
   "metadata": {},
   "outputs": [
    {
     "name": "stdout",
     "output_type": "stream",
     "text": [
      "Person detection metrics:\n",
      "IoU mean: 0.764 ± 0.078\n",
      "Count difference: 0.1\n",
      "\n",
      "Face detection metrics:\n",
      "IoU mean: 0.633 ± 0.109\n",
      "Count difference: -0.5\n"
     ]
    }
   ],
   "source": [
    "iou_calculator = IOUCalculator(\"annotations.xml\", frame_finder)\n",
    "\n",
    "stats = iou_calculator.get_summary_stats()\n",
    "\n",
    "print(\"Person detection metrics:\")\n",
    "print(f\"IoU mean: {stats['person_iou']['mean']:.3f} ± {stats['person_iou']['std']:.3f}\")\n",
    "print(f\"Count difference: {stats['person_count_diff']['mean']:.1f}\")\n",
    "\n",
    "print(\"\\nFace detection metrics:\")\n",
    "print(f\"IoU mean: {stats['face_iou']['mean']:.3f} ± {stats['face_iou']['std']:.3f}\")\n",
    "print(f\"Count difference: {stats['face_count_diff']['mean']:.1f}\")"
   ]
  },
  {
   "cell_type": "code",
   "execution_count": null,
   "id": "f576f113",
   "metadata": {},
   "outputs": [
    {
     "name": "stdout",
     "output_type": "stream",
     "text": [
      "Metrics:\n",
      "AP_face_bbox: 0.7712\n",
      "AP_person_bbox: 0.9936\n",
      "mAP: 0.8824\n"
     ]
    }
   ],
   "source": [
    "map_calculator = MAPCalculator(\"annotations.xml\", frame_finder, iou_threshold=0.5)\n",
    "\n",
    "metrics = map_calculator.calculate_map()\n",
    "\n",
    "print(\"Metrics:\")\n",
    "for class_name, value in metrics.items():\n",
    "    print(f\"{class_name}: {value:.4f}\")"
   ]
  },
  {
   "cell_type": "code",
   "execution_count": null,
   "id": "7bb33d1f",
   "metadata": {},
   "outputs": [],
   "source": [
    "def generate_ground_truth(frame_patterns, total_frames: int):\n",
    "    pattern_frames = sorted(frame_patterns.keys())\n",
    "    patterns = [frame_patterns[frame] for frame in pattern_frames]\n",
    "    \n",
    "    ground_truth = {}\n",
    "    pattern_index = 0\n",
    "    \n",
    "    for frame in range(total_frames):\n",
    "        if frame in frame_patterns:\n",
    "            current_pattern = frame_patterns[frame]\n",
    "        else:\n",
    "            current_pattern = patterns[pattern_index % len(patterns)]\n",
    "            pattern_index += 1\n",
    "        \n",
    "        ground_truth[frame] = current_pattern\n",
    "    \n",
    "    return ground_truth"
   ]
  },
  {
   "cell_type": "code",
   "execution_count": null,
   "id": "55ea63de",
   "metadata": {},
   "outputs": [],
   "source": [
    "frame_patterns = {\n",
    "    # 0: [\"dkorolev\", \"mvmoiseev\", \"amzayakina\"],\n",
    "    # 0: [\"ogmenkov\"],\n",
    "    0: [\"aaivoninskaya\", \"avzotova_4\", \"anaalesuslova\"],\n",
    "    # 0: [\"saslastnikov1\"],\n",
    "\n",
    "    \n",
    "    \n",
    "    \n",
    "    # 15: [\"ikmityushkin\", \"dkorolev\", \"mvmoiseev\", \"amzayakina\"],\n",
    "    # 30: [\"\"dkorolev\", \"mvmoiseev\"\"]\n",
    "}\n",
    "\n",
    "# total_frames = 2880\n",
    "total_frames = 3600\n",
    "\n",
    "\n",
    "ground_truth = generate_ground_truth(frame_patterns, total_frames)"
   ]
  },
  {
   "cell_type": "code",
   "execution_count": null,
   "id": "c72a8d84",
   "metadata": {},
   "outputs": [],
   "source": [
    "evaluator = VideoIdentificationEvaluator(\n",
    "    known_identities=os.listdir(\"datasets/backup\"),\n",
    "    frame_finder=frame_finder\n",
    ")\n",
    "\n",
    "results = evaluator.process_video(ground_truth)\n",
    "\n",
    "evaluator.print_summary([\"aaivoninskaya\", \"avzotova_4\", \"anaalesuslova\"])"
   ]
  },
  {
   "cell_type": "code",
   "execution_count": 16,
   "id": "4f20fcb8",
   "metadata": {},
   "outputs": [
    {
     "name": "stdout",
     "output_type": "stream",
     "text": [
      "Доступные GPU: [PhysicalDevice(name='/physical_device:GPU:0', device_type='GPU')]\n",
      "Версия CUDA: 12.4\n",
      "Версия cuDNN: 9\n"
     ]
    }
   ],
   "source": [
    "import tensorflow as tf\n",
    "print(\"Доступные GPU:\", tf.config.list_physical_devices('GPU'))\n",
    "print(\"Версия CUDA:\", tf.sysconfig.get_build_info()[\"cuda_version\"])\n",
    "print(\"Версия cuDNN:\", tf.sysconfig.get_build_info()[\"cudnn_version\"])"
   ]
  },
  {
   "cell_type": "code",
   "execution_count": 1,
   "id": "cac32bca",
   "metadata": {},
   "outputs": [
    {
     "name": "stdout",
     "output_type": "stream",
     "text": [
      "tensorflow              2.17.0\n",
      "tensorflow_estimator    2.15.0\n",
      "Note: you may need to restart the kernel to use updated packages.\n"
     ]
    }
   ],
   "source": [
    "pip list | grep tensorflow"
   ]
  },
  {
   "cell_type": "code",
   "execution_count": 2,
   "id": "532fef7d",
   "metadata": {},
   "outputs": [
    {
     "name": "stderr",
     "output_type": "stream",
     "text": [
      "2025-04-28 00:51:11.036494: I tensorflow/core/util/port.cc:153] oneDNN custom operations are on. You may see slightly different numerical results due to floating-point round-off errors from different computation orders. To turn them off, set the environment variable `TF_ENABLE_ONEDNN_OPTS=0`.\n",
      "2025-04-28 00:51:11.044435: E external/local_xla/xla/stream_executor/cuda/cuda_fft.cc:485] Unable to register cuFFT factory: Attempting to register factory for plugin cuFFT when one has already been registered\n",
      "2025-04-28 00:51:11.054116: E external/local_xla/xla/stream_executor/cuda/cuda_dnn.cc:8454] Unable to register cuDNN factory: Attempting to register factory for plugin cuDNN when one has already been registered\n",
      "2025-04-28 00:51:11.057170: E external/local_xla/xla/stream_executor/cuda/cuda_blas.cc:1452] Unable to register cuBLAS factory: Attempting to register factory for plugin cuBLAS when one has already been registered\n",
      "2025-04-28 00:51:11.064299: I tensorflow/core/platform/cpu_feature_guard.cc:210] This TensorFlow binary is optimized to use available CPU instructions in performance-critical operations.\n",
      "To enable the following instructions: SSE4.1 SSE4.2 AVX AVX2 AVX_VNNI FMA, in other operations, rebuild TensorFlow with the appropriate compiler flags.\n",
      "WARNING: All log messages before absl::InitializeLog() is called are written to STDERR\n",
      "I0000 00:00:1745790672.574244   91431 cuda_executor.cc:1015] successful NUMA node read from SysFS had negative value (-1), but there must be at least one NUMA node, so returning NUMA node zero. See more at https://github.com/torvalds/linux/blob/v6.0/Documentation/ABI/testing/sysfs-bus-pci#L344-L355\n",
      "I0000 00:00:1745790672.599014   91431 cuda_executor.cc:1015] successful NUMA node read from SysFS had negative value (-1), but there must be at least one NUMA node, so returning NUMA node zero. See more at https://github.com/torvalds/linux/blob/v6.0/Documentation/ABI/testing/sysfs-bus-pci#L344-L355\n",
      "I0000 00:00:1745790672.599183   91431 cuda_executor.cc:1015] successful NUMA node read from SysFS had negative value (-1), but there must be at least one NUMA node, so returning NUMA node zero. See more at https://github.com/torvalds/linux/blob/v6.0/Documentation/ABI/testing/sysfs-bus-pci#L344-L355\n"
     ]
    },
    {
     "data": {
      "text/plain": [
       "[PhysicalDevice(name='/physical_device:GPU:0', device_type='GPU')]"
      ]
     },
     "execution_count": 2,
     "metadata": {},
     "output_type": "execute_result"
    }
   ],
   "source": [
    "import tensorflow as tf\n",
    "tf.config.list_physical_devices('GPU') \n"
   ]
  },
  {
   "cell_type": "code",
   "execution_count": 4,
   "id": "35e51cb5",
   "metadata": {},
   "outputs": [
    {
     "name": "stdout",
     "output_type": "stream",
     "text": [
      "nvcc: NVIDIA (R) Cuda compiler driver\n",
      "Copyright (c) 2005-2024 NVIDIA Corporation\n",
      "Built on Thu_Mar_28_02:18:24_PDT_2024\n",
      "Cuda compilation tools, release 12.4, V12.4.131\n",
      "Build cuda_12.4.r12.4/compiler.34097967_0\n"
     ]
    }
   ],
   "source": [
    "!nvcc --version  # Должно показывать 11.8"
   ]
  }
 ],
 "metadata": {
  "kernelspec": {
   "display_name": "py311_env",
   "language": "python",
   "name": "python3"
  },
  "language_info": {
   "codemirror_mode": {
    "name": "ipython",
    "version": 3
   },
   "file_extension": ".py",
   "mimetype": "text/x-python",
   "name": "python",
   "nbconvert_exporter": "python",
   "pygments_lexer": "ipython3",
   "version": "3.11.11"
  }
 },
 "nbformat": 4,
 "nbformat_minor": 5
}
