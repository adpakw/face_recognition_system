{
 "cells": [
  {
   "cell_type": "code",
   "execution_count": 1,
   "id": "decb78e1",
   "metadata": {},
   "outputs": [],
   "source": [
    "import os \n",
    "\n",
    "os.chdir(os.path.abspath(os.path.pardir))"
   ]
  },
  {
   "cell_type": "code",
   "execution_count": null,
   "id": "9cb8137c",
   "metadata": {},
   "outputs": [],
   "source": [
    "from app.clients.frame_finder import FrameFinder\n",
    "from app.metrics.iou import IOUCalculator\n",
    "from app.metrics.map import MAPCalculator\n",
    "from app.metrics.recognition_metrics import VideoIdentificationEvaluator"
   ]
  },
  {
   "cell_type": "code",
   "execution_count": null,
   "id": "090e5bef",
   "metadata": {},
   "outputs": [],
   "source": [
    "# Init frame finder\n",
    "\n",
    "json_files=[]\n",
    "folder_path = \"results/aaivoninskaya avzotova_4 anaalesuslova\"\n",
    "\n",
    "for filename in os.listdir(folder_path):\n",
    "    full_path = os.path.join(folder_path, filename)\n",
    "\n",
    "    if os.path.isfile(full_path) and filename.lower().endswith(\".json\"):\n",
    "        json_files.append(full_path)\n",
    "frame_finder = FrameFinder(json_files=json_files)"
   ]
  },
  {
   "cell_type": "code",
   "execution_count": null,
   "id": "8d06767f",
   "metadata": {},
   "outputs": [
    {
     "name": "stdout",
     "output_type": "stream",
     "text": [
      "Person detection metrics:\n",
      "IoU mean: 0.764 ± 0.078\n",
      "Count difference: 0.1\n",
      "\n",
      "Face detection metrics:\n",
      "IoU mean: 0.633 ± 0.109\n",
      "Count difference: -0.5\n"
     ]
    }
   ],
   "source": [
    "iou_calculator = IOUCalculator(\"annotations.xml\", frame_finder)\n",
    "\n",
    "stats = iou_calculator.get_summary_stats()\n",
    "\n",
    "print(\"Person detection metrics:\")\n",
    "print(f\"IoU mean: {stats['person_iou']['mean']:.3f} ± {stats['person_iou']['std']:.3f}\")\n",
    "print(f\"Count difference: {stats['person_count_diff']['mean']:.1f}\")\n",
    "\n",
    "print(\"\\nFace detection metrics:\")\n",
    "print(f\"IoU mean: {stats['face_iou']['mean']:.3f} ± {stats['face_iou']['std']:.3f}\")\n",
    "print(f\"Count difference: {stats['face_count_diff']['mean']:.1f}\")"
   ]
  },
  {
   "cell_type": "code",
   "execution_count": null,
   "id": "f576f113",
   "metadata": {},
   "outputs": [
    {
     "name": "stdout",
     "output_type": "stream",
     "text": [
      "Metrics:\n",
      "AP_face_bbox: 0.7712\n",
      "AP_person_bbox: 0.9936\n",
      "mAP: 0.8824\n"
     ]
    }
   ],
   "source": [
    "map_calculator = MAPCalculator(\"annotations.xml\", frame_finder, iou_threshold=0.5)\n",
    "\n",
    "metrics = map_calculator.calculate_map()\n",
    "\n",
    "print(\"Metrics:\")\n",
    "for class_name, value in metrics.items():\n",
    "    print(f\"{class_name}: {value:.4f}\")"
   ]
  },
  {
   "cell_type": "code",
   "execution_count": null,
   "id": "7bb33d1f",
   "metadata": {},
   "outputs": [],
   "source": [
    "def generate_ground_truth(frame_patterns, total_frames: int):\n",
    "    pattern_frames = sorted(frame_patterns.keys())\n",
    "    patterns = [frame_patterns[frame] for frame in pattern_frames]\n",
    "    \n",
    "    ground_truth = {}\n",
    "    pattern_index = 0\n",
    "    \n",
    "    for frame in range(total_frames):\n",
    "        if frame in frame_patterns:\n",
    "            current_pattern = frame_patterns[frame]\n",
    "        else:\n",
    "            current_pattern = patterns[pattern_index % len(patterns)]\n",
    "            pattern_index += 1\n",
    "        \n",
    "        ground_truth[frame] = current_pattern\n",
    "    \n",
    "    return ground_truth"
   ]
  },
  {
   "cell_type": "code",
   "execution_count": null,
   "id": "55ea63de",
   "metadata": {},
   "outputs": [],
   "source": [
    "frame_patterns = {\n",
    "    # 0: [\"dkorolev\", \"mvmoiseev\", \"amzayakina\"],\n",
    "    # 0: [\"ogmenkov\"],\n",
    "    0: [\"aaivoninskaya\", \"avzotova_4\", \"anaalesuslova\"],\n",
    "    # 0: [\"saslastnikov1\"],\n",
    "\n",
    "    \n",
    "    \n",
    "    \n",
    "    # 15: [\"ikmityushkin\", \"dkorolev\", \"mvmoiseev\", \"amzayakina\"],\n",
    "    # 30: [\"\"dkorolev\", \"mvmoiseev\"\"]\n",
    "}\n",
    "\n",
    "# total_frames = 2880\n",
    "total_frames = 3600\n",
    "\n",
    "\n",
    "ground_truth = generate_ground_truth(frame_patterns, total_frames)"
   ]
  },
  {
   "cell_type": "code",
   "execution_count": null,
   "id": "c72a8d84",
   "metadata": {},
   "outputs": [],
   "source": [
    "evaluator = VideoIdentificationEvaluator(\n",
    "    known_identities=os.listdir(\"datasets/backup\"),\n",
    "    frame_finder=frame_finder\n",
    ")\n",
    "\n",
    "results = evaluator.process_video(ground_truth)\n",
    "\n",
    "evaluator.print_summary([\"aaivoninskaya\", \"avzotova_4\", \"anaalesuslova\"])"
   ]
  },
  {
   "cell_type": "code",
   "execution_count": 16,
   "id": "4f20fcb8",
   "metadata": {},
   "outputs": [
    {
     "name": "stdout",
     "output_type": "stream",
     "text": [
      "Доступные GPU: [PhysicalDevice(name='/physical_device:GPU:0', device_type='GPU')]\n",
      "Версия CUDA: 12.4\n",
      "Версия cuDNN: 9\n"
     ]
    }
   ],
   "source": [
    "import tensorflow as tf\n",
    "print(\"Доступные GPU:\", tf.config.list_physical_devices('GPU'))\n",
    "print(\"Версия CUDA:\", tf.sysconfig.get_build_info()[\"cuda_version\"])\n",
    "print(\"Версия cuDNN:\", tf.sysconfig.get_build_info()[\"cudnn_version\"])"
   ]
  },
  {
   "cell_type": "code",
   "execution_count": 1,
   "id": "6142173a",
   "metadata": {},
   "outputs": [],
   "source": [
    "import os \n",
    "\n",
    "os.chdir(os.path.abspath(os.path.pardir))"
   ]
  },
  {
   "cell_type": "code",
   "execution_count": 2,
   "id": "822a0d8e",
   "metadata": {},
   "outputs": [
    {
     "name": "stderr",
     "output_type": "stream",
     "text": [
      "2025-04-28 21:02:44.285249: I tensorflow/core/util/port.cc:153] oneDNN custom operations are on. You may see slightly different numerical results due to floating-point round-off errors from different computation orders. To turn them off, set the environment variable `TF_ENABLE_ONEDNN_OPTS=0`.\n",
      "2025-04-28 21:02:44.293561: E external/local_xla/xla/stream_executor/cuda/cuda_fft.cc:485] Unable to register cuFFT factory: Attempting to register factory for plugin cuFFT when one has already been registered\n",
      "2025-04-28 21:02:44.303680: E external/local_xla/xla/stream_executor/cuda/cuda_dnn.cc:8454] Unable to register cuDNN factory: Attempting to register factory for plugin cuDNN when one has already been registered\n",
      "2025-04-28 21:02:44.306843: E external/local_xla/xla/stream_executor/cuda/cuda_blas.cc:1452] Unable to register cuBLAS factory: Attempting to register factory for plugin cuBLAS when one has already been registered\n",
      "2025-04-28 21:02:44.314291: I tensorflow/core/platform/cpu_feature_guard.cc:210] This TensorFlow binary is optimized to use available CPU instructions in performance-critical operations.\n",
      "To enable the following instructions: SSE4.1 SSE4.2 AVX AVX2 AVX_VNNI FMA, in other operations, rebuild TensorFlow with the appropriate compiler flags.\n",
      "/home/adpkw/anaconda3/envs/py311/lib/python3.11/site-packages/scipy/__init__.py:155: UserWarning: A NumPy version >=1.18.5 and <1.26.0 is required for this version of SciPy (detected version 1.26.4\n",
      "  warnings.warn(f\"A NumPy version >={np_minversion} and <{np_maxversion}\"\n",
      "WARNING: All log messages before absl::InitializeLog() is called are written to STDERR\n",
      "I0000 00:00:1745863365.632436   49062 cuda_executor.cc:1015] successful NUMA node read from SysFS had negative value (-1), but there must be at least one NUMA node, so returning NUMA node zero. See more at https://github.com/torvalds/linux/blob/v6.0/Documentation/ABI/testing/sysfs-bus-pci#L344-L355\n",
      "I0000 00:00:1745863365.658375   49062 cuda_executor.cc:1015] successful NUMA node read from SysFS had negative value (-1), but there must be at least one NUMA node, so returning NUMA node zero. See more at https://github.com/torvalds/linux/blob/v6.0/Documentation/ABI/testing/sysfs-bus-pci#L344-L355\n",
      "I0000 00:00:1745863365.658518   49062 cuda_executor.cc:1015] successful NUMA node read from SysFS had negative value (-1), but there must be at least one NUMA node, so returning NUMA node zero. See more at https://github.com/torvalds/linux/blob/v6.0/Documentation/ABI/testing/sysfs-bus-pci#L344-L355\n",
      "I0000 00:00:1745863365.659348   49062 cuda_executor.cc:1015] successful NUMA node read from SysFS had negative value (-1), but there must be at least one NUMA node, so returning NUMA node zero. See more at https://github.com/torvalds/linux/blob/v6.0/Documentation/ABI/testing/sysfs-bus-pci#L344-L355\n",
      "I0000 00:00:1745863365.659448   49062 cuda_executor.cc:1015] successful NUMA node read from SysFS had negative value (-1), but there must be at least one NUMA node, so returning NUMA node zero. See more at https://github.com/torvalds/linux/blob/v6.0/Documentation/ABI/testing/sysfs-bus-pci#L344-L355\n",
      "I0000 00:00:1745863365.659515   49062 cuda_executor.cc:1015] successful NUMA node read from SysFS had negative value (-1), but there must be at least one NUMA node, so returning NUMA node zero. See more at https://github.com/torvalds/linux/blob/v6.0/Documentation/ABI/testing/sysfs-bus-pci#L344-L355\n",
      "I0000 00:00:1745863365.705313   49062 cuda_executor.cc:1015] successful NUMA node read from SysFS had negative value (-1), but there must be at least one NUMA node, so returning NUMA node zero. See more at https://github.com/torvalds/linux/blob/v6.0/Documentation/ABI/testing/sysfs-bus-pci#L344-L355\n",
      "I0000 00:00:1745863365.705457   49062 cuda_executor.cc:1015] successful NUMA node read from SysFS had negative value (-1), but there must be at least one NUMA node, so returning NUMA node zero. See more at https://github.com/torvalds/linux/blob/v6.0/Documentation/ABI/testing/sysfs-bus-pci#L344-L355\n",
      "I0000 00:00:1745863365.705592   49062 cuda_executor.cc:1015] successful NUMA node read from SysFS had negative value (-1), but there must be at least one NUMA node, so returning NUMA node zero. See more at https://github.com/torvalds/linux/blob/v6.0/Documentation/ABI/testing/sysfs-bus-pci#L344-L355\n",
      "2025-04-28 21:02:45.705675: I tensorflow/core/common_runtime/gpu/gpu_device.cc:2021] Created device /job:localhost/replica:0/task:0/device:GPU:0 with 9945 MB memory:  -> device: 0, name: NVIDIA GeForce RTX 3060, pci bus id: 0000:01:00.0, compute capability: 8.6\n",
      "I0000 00:00:1745863368.665231   49126 service.cc:146] XLA service 0x767944003e20 initialized for platform CUDA (this does not guarantee that XLA will be used). Devices:\n",
      "I0000 00:00:1745863368.665245   49126 service.cc:154]   StreamExecutor device (0): NVIDIA GeForce RTX 3060, Compute Capability 8.6\n",
      "2025-04-28 21:02:48.731499: I tensorflow/compiler/mlir/tensorflow/utils/dump_mlir_util.cc:268] disabling MLIR crash reproducer, set env var `MLIR_CRASH_REPRODUCER_DIRECTORY` to enable.\n",
      "2025-04-28 21:02:49.291642: I external/local_xla/xla/stream_executor/cuda/cuda_dnn.cc:531] Loaded cuDNN version 90101\n"
     ]
    },
    {
     "name": "stdout",
     "output_type": "stream",
     "text": [
      "\u001b[1m1/1\u001b[0m \u001b[32m━━━━━━━━━━━━━━━━━━━━\u001b[0m\u001b[37m\u001b[0m \u001b[1m5s\u001b[0m 5s/step\n"
     ]
    },
    {
     "name": "stderr",
     "output_type": "stream",
     "text": [
      "I0000 00:00:1745863371.758816   49126 device_compiler.h:188] Compiled cluster using XLA!  This line is logged at most once for the lifetime of the process.\n"
     ]
    },
    {
     "data": {
      "text/plain": [
       "array([-0.333883  , -0.59391963, -0.14931333, -0.72523737,  0.17890814,\n",
       "        1.0389516 , -0.1363386 ,  0.15970005,  0.76984996, -0.14774798,\n",
       "        0.62146366, -0.25172126, -0.09744526, -0.65411973, -0.12484452,\n",
       "        0.5087923 , -0.3434547 , -0.44630522,  0.22556825, -0.05677466,\n",
       "        0.3300104 ,  0.31695297, -0.04164279,  0.5362562 ,  0.31841582,\n",
       "        0.3618004 ,  0.15803212,  0.4091864 ,  0.22913374, -0.12744938,\n",
       "        0.02976157,  1.3042554 , -0.5111748 ,  0.26369628, -0.0381773 ,\n",
       "       -0.49421456, -0.5271343 ,  0.18327546, -0.06421107, -0.14145444,\n",
       "        0.05606898, -0.22270794, -0.5373682 , -0.53704494, -0.9043109 ,\n",
       "       -0.68467677,  0.50194037, -0.40308887, -0.25252044,  0.96764386,\n",
       "       -0.59985167,  0.7599289 ,  0.4916856 ,  0.2005109 ,  0.3299222 ,\n",
       "       -0.09368559,  0.18721025, -0.25332806, -1.2265778 ,  0.09179495,\n",
       "       -0.15390548, -0.5035552 ,  0.1349945 ,  0.815584  ,  0.50403666,\n",
       "       -0.08297031,  0.76674575,  1.0334882 ,  0.34060326, -0.7013782 ,\n",
       "       -0.3747288 , -0.33786005, -0.35293907,  0.00810326,  0.11421655,\n",
       "        0.2874008 , -0.9290472 , -0.15745965, -0.6907926 , -0.09863696,\n",
       "       -0.2761589 , -0.25006333,  0.07590441, -0.11631016,  0.258812  ,\n",
       "       -0.00978312,  0.3054411 ,  0.23862658, -0.2376141 , -0.04905969,\n",
       "        0.26784462, -1.2785428 , -0.11927298, -0.39160022,  1.5703397 ,\n",
       "        0.9803811 , -1.1607667 ,  0.45564854, -0.1542381 , -0.6968925 ,\n",
       "        0.35982603,  0.17136472, -0.49375588, -0.4088319 , -0.3920507 ,\n",
       "        0.00695904, -0.19375356,  0.04301109,  0.61562616, -1.3379658 ,\n",
       "       -0.14663124,  0.12138131,  0.43211585, -0.22100297, -0.01889229,\n",
       "        0.02272675, -0.08544708, -0.21541578, -0.02806645,  0.6266824 ,\n",
       "        0.08717284,  0.10231385,  0.6238657 , -0.16402079,  0.7516952 ,\n",
       "       -0.33173767,  0.19350483,  0.8259176 ], dtype=float32)"
      ]
     },
     "execution_count": 2,
     "metadata": {},
     "output_type": "execute_result"
    }
   ],
   "source": [
    "from app.models.facenet import FaceNet128dClient\n",
    "import cv2\n",
    "import numpy as np\n",
    "\n",
    "def preprocess(img: np.ndarray) -> np.ndarray:\n",
    "        \"\"\"Предобработка изображения\"\"\"\n",
    "        # Пример предобработки:\n",
    "        img = cv2.resize(img, (160, 160))\n",
    "        img = img.astype('float32')\n",
    "        img = (img - 127.5) / 128.0  # Нормализация для FaceNet\n",
    "        return np.expand_dims(img, axis=0)\n",
    "\n",
    "model = FaceNet128dClient()\n",
    "\n",
    "\n",
    "model.get_embedding(preprocess(cv2.imread(\"data/known_faces/ikarpova/0.png\")))"
   ]
  },
  {
   "cell_type": "code",
   "execution_count": null,
   "id": "36e6f4b3",
   "metadata": {},
   "outputs": [],
   "source": []
  },
  {
   "cell_type": "code",
   "execution_count": 1,
   "id": "ba9ac25c",
   "metadata": {},
   "outputs": [
    {
     "name": "stderr",
     "output_type": "stream",
     "text": [
      "2025-04-28 20:22:05.206042: I tensorflow/core/util/port.cc:153] oneDNN custom operations are on. You may see slightly different numerical results due to floating-point round-off errors from different computation orders. To turn them off, set the environment variable `TF_ENABLE_ONEDNN_OPTS=0`.\n",
      "2025-04-28 20:22:05.214101: E external/local_xla/xla/stream_executor/cuda/cuda_fft.cc:485] Unable to register cuFFT factory: Attempting to register factory for plugin cuFFT when one has already been registered\n",
      "2025-04-28 20:22:05.224147: E external/local_xla/xla/stream_executor/cuda/cuda_dnn.cc:8454] Unable to register cuDNN factory: Attempting to register factory for plugin cuDNN when one has already been registered\n",
      "2025-04-28 20:22:05.227252: E external/local_xla/xla/stream_executor/cuda/cuda_blas.cc:1452] Unable to register cuBLAS factory: Attempting to register factory for plugin cuBLAS when one has already been registered\n",
      "2025-04-28 20:22:05.234403: I tensorflow/core/platform/cpu_feature_guard.cc:210] This TensorFlow binary is optimized to use available CPU instructions in performance-critical operations.\n",
      "To enable the following instructions: SSE4.1 SSE4.2 AVX AVX2 AVX_VNNI FMA, in other operations, rebuild TensorFlow with the appropriate compiler flags.\n",
      "/home/adpkw/anaconda3/envs/py311/lib/python3.11/site-packages/scipy/__init__.py:155: UserWarning: A NumPy version >=1.18.5 and <1.26.0 is required for this version of SciPy (detected version 1.26.4\n",
      "  warnings.warn(f\"A NumPy version >={np_minversion} and <{np_maxversion}\"\n"
     ]
    },
    {
     "name": "stdout",
     "output_type": "stream",
     "text": [
      "tf.Tensor(\n",
      "[[22. 28.]\n",
      " [49. 64.]], shape=(2, 2), dtype=float32)\n"
     ]
    },
    {
     "name": "stderr",
     "output_type": "stream",
     "text": [
      "WARNING: All log messages before absl::InitializeLog() is called are written to STDERR\n",
      "I0000 00:00:1745860926.228959   43989 cuda_executor.cc:1015] successful NUMA node read from SysFS had negative value (-1), but there must be at least one NUMA node, so returning NUMA node zero. See more at https://github.com/torvalds/linux/blob/v6.0/Documentation/ABI/testing/sysfs-bus-pci#L344-L355\n",
      "I0000 00:00:1745860926.254630   43989 cuda_executor.cc:1015] successful NUMA node read from SysFS had negative value (-1), but there must be at least one NUMA node, so returning NUMA node zero. See more at https://github.com/torvalds/linux/blob/v6.0/Documentation/ABI/testing/sysfs-bus-pci#L344-L355\n",
      "I0000 00:00:1745860926.254769   43989 cuda_executor.cc:1015] successful NUMA node read from SysFS had negative value (-1), but there must be at least one NUMA node, so returning NUMA node zero. See more at https://github.com/torvalds/linux/blob/v6.0/Documentation/ABI/testing/sysfs-bus-pci#L344-L355\n",
      "I0000 00:00:1745860926.255457   43989 cuda_executor.cc:1015] successful NUMA node read from SysFS had negative value (-1), but there must be at least one NUMA node, so returning NUMA node zero. See more at https://github.com/torvalds/linux/blob/v6.0/Documentation/ABI/testing/sysfs-bus-pci#L344-L355\n",
      "I0000 00:00:1745860926.255546   43989 cuda_executor.cc:1015] successful NUMA node read from SysFS had negative value (-1), but there must be at least one NUMA node, so returning NUMA node zero. See more at https://github.com/torvalds/linux/blob/v6.0/Documentation/ABI/testing/sysfs-bus-pci#L344-L355\n",
      "I0000 00:00:1745860926.255607   43989 cuda_executor.cc:1015] successful NUMA node read from SysFS had negative value (-1), but there must be at least one NUMA node, so returning NUMA node zero. See more at https://github.com/torvalds/linux/blob/v6.0/Documentation/ABI/testing/sysfs-bus-pci#L344-L355\n",
      "I0000 00:00:1745860926.301100   43989 cuda_executor.cc:1015] successful NUMA node read from SysFS had negative value (-1), but there must be at least one NUMA node, so returning NUMA node zero. See more at https://github.com/torvalds/linux/blob/v6.0/Documentation/ABI/testing/sysfs-bus-pci#L344-L355\n",
      "I0000 00:00:1745860926.301232   43989 cuda_executor.cc:1015] successful NUMA node read from SysFS had negative value (-1), but there must be at least one NUMA node, so returning NUMA node zero. See more at https://github.com/torvalds/linux/blob/v6.0/Documentation/ABI/testing/sysfs-bus-pci#L344-L355\n",
      "I0000 00:00:1745860926.301307   43989 cuda_executor.cc:1015] successful NUMA node read from SysFS had negative value (-1), but there must be at least one NUMA node, so returning NUMA node zero. See more at https://github.com/torvalds/linux/blob/v6.0/Documentation/ABI/testing/sysfs-bus-pci#L344-L355\n",
      "2025-04-28 20:22:06.301366: I tensorflow/core/common_runtime/gpu/gpu_device.cc:2021] Created device /job:localhost/replica:0/task:0/device:GPU:0 with 9907 MB memory:  -> device: 0, name: NVIDIA GeForce RTX 3060, pci bus id: 0000:01:00.0, compute capability: 8.6\n"
     ]
    }
   ],
   "source": [
    "import tensorflow as tf\n",
    "# tf.debugging.set_log_device_placement(True)\n",
    "\n",
    "with tf.device('/GPU:0'):\n",
    "    a = tf.constant([[1.0, 2.0, 3.0], [4.0, 5.0, 6.0]])\n",
    "    b = tf.constant([[1.0, 2.0], [3.0, 4.0], [5.0, 6.0]])\n",
    "    c = tf.matmul(a, b)\n",
    "\n",
    "print(c)\n"
   ]
  },
  {
   "cell_type": "code",
   "execution_count": 1,
   "id": "cac32bca",
   "metadata": {},
   "outputs": [
    {
     "name": "stdout",
     "output_type": "stream",
     "text": [
      "tensorflow              2.17.0\n",
      "tensorflow_estimator    2.15.0\n",
      "Note: you may need to restart the kernel to use updated packages.\n"
     ]
    }
   ],
   "source": [
    "pip list | grep tensorflow"
   ]
  },
  {
   "cell_type": "code",
   "execution_count": 2,
   "id": "532fef7d",
   "metadata": {},
   "outputs": [
    {
     "name": "stderr",
     "output_type": "stream",
     "text": [
      "2025-04-28 00:51:11.036494: I tensorflow/core/util/port.cc:153] oneDNN custom operations are on. You may see slightly different numerical results due to floating-point round-off errors from different computation orders. To turn them off, set the environment variable `TF_ENABLE_ONEDNN_OPTS=0`.\n",
      "2025-04-28 00:51:11.044435: E external/local_xla/xla/stream_executor/cuda/cuda_fft.cc:485] Unable to register cuFFT factory: Attempting to register factory for plugin cuFFT when one has already been registered\n",
      "2025-04-28 00:51:11.054116: E external/local_xla/xla/stream_executor/cuda/cuda_dnn.cc:8454] Unable to register cuDNN factory: Attempting to register factory for plugin cuDNN when one has already been registered\n",
      "2025-04-28 00:51:11.057170: E external/local_xla/xla/stream_executor/cuda/cuda_blas.cc:1452] Unable to register cuBLAS factory: Attempting to register factory for plugin cuBLAS when one has already been registered\n",
      "2025-04-28 00:51:11.064299: I tensorflow/core/platform/cpu_feature_guard.cc:210] This TensorFlow binary is optimized to use available CPU instructions in performance-critical operations.\n",
      "To enable the following instructions: SSE4.1 SSE4.2 AVX AVX2 AVX_VNNI FMA, in other operations, rebuild TensorFlow with the appropriate compiler flags.\n",
      "WARNING: All log messages before absl::InitializeLog() is called are written to STDERR\n",
      "I0000 00:00:1745790672.574244   91431 cuda_executor.cc:1015] successful NUMA node read from SysFS had negative value (-1), but there must be at least one NUMA node, so returning NUMA node zero. See more at https://github.com/torvalds/linux/blob/v6.0/Documentation/ABI/testing/sysfs-bus-pci#L344-L355\n",
      "I0000 00:00:1745790672.599014   91431 cuda_executor.cc:1015] successful NUMA node read from SysFS had negative value (-1), but there must be at least one NUMA node, so returning NUMA node zero. See more at https://github.com/torvalds/linux/blob/v6.0/Documentation/ABI/testing/sysfs-bus-pci#L344-L355\n",
      "I0000 00:00:1745790672.599183   91431 cuda_executor.cc:1015] successful NUMA node read from SysFS had negative value (-1), but there must be at least one NUMA node, so returning NUMA node zero. See more at https://github.com/torvalds/linux/blob/v6.0/Documentation/ABI/testing/sysfs-bus-pci#L344-L355\n"
     ]
    },
    {
     "data": {
      "text/plain": [
       "[PhysicalDevice(name='/physical_device:GPU:0', device_type='GPU')]"
      ]
     },
     "execution_count": 2,
     "metadata": {},
     "output_type": "execute_result"
    }
   ],
   "source": [
    "import tensorflow as tf\n",
    "tf.config.list_physical_devices('GPU') \n"
   ]
  },
  {
   "cell_type": "code",
   "execution_count": 4,
   "id": "35e51cb5",
   "metadata": {},
   "outputs": [
    {
     "name": "stdout",
     "output_type": "stream",
     "text": [
      "nvcc: NVIDIA (R) Cuda compiler driver\n",
      "Copyright (c) 2005-2024 NVIDIA Corporation\n",
      "Built on Thu_Mar_28_02:18:24_PDT_2024\n",
      "Cuda compilation tools, release 12.4, V12.4.131\n",
      "Build cuda_12.4.r12.4/compiler.34097967_0\n"
     ]
    }
   ],
   "source": [
    "!nvcc --version  # Должно показывать 11.8"
   ]
  }
 ],
 "metadata": {
  "kernelspec": {
   "display_name": "py311",
   "language": "python",
   "name": "python3"
  },
  "language_info": {
   "codemirror_mode": {
    "name": "ipython",
    "version": 3
   },
   "file_extension": ".py",
   "mimetype": "text/x-python",
   "name": "python",
   "nbconvert_exporter": "python",
   "pygments_lexer": "ipython3",
   "version": "3.11.11"
  }
 },
 "nbformat": 4,
 "nbformat_minor": 5
}
