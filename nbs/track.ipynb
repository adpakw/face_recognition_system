{
 "cells": [
  {
   "cell_type": "code",
   "execution_count": 1,
   "id": "721ecc99",
   "metadata": {},
   "outputs": [],
   "source": [
    "import os \n",
    "\n",
    "# os.chdir(os.path.abspath(os.path.pardir))\n",
    "os.chdir(\"/home/adpkw/face_recognition_system\")"
   ]
  },
  {
   "cell_type": "code",
   "execution_count": 3,
   "id": "a834c8f4",
   "metadata": {},
   "outputs": [
    {
     "name": "stdout",
     "output_type": "stream",
     "text": [
      "Успешное подключение к PostgreSQL\n"
     ]
    },
    {
     "data": {
      "application/vnd.microsoft.datawrangler.viewer.v0+json": {
       "columns": [
        {
         "name": "index",
         "rawType": "int64",
         "type": "integer"
        },
        {
         "name": "table_name",
         "rawType": "object",
         "type": "string"
        }
       ],
       "conversionMethod": "pd.DataFrame",
       "ref": "853a4ee6-af71-4598-818d-ed99cd25897a",
       "rows": [
        [
         "0",
         "pg_statistic"
        ],
        [
         "1",
         "pg_type"
        ],
        [
         "2",
         "pg_foreign_table"
        ],
        [
         "3",
         "pg_authid"
        ],
        [
         "4",
         "pg_shadow"
        ],
        [
         "5",
         "pg_statistic_ext_data"
        ],
        [
         "6",
         "pg_roles"
        ],
        [
         "7",
         "pg_settings"
        ],
        [
         "8",
         "pg_file_settings"
        ],
        [
         "9",
         "pg_hba_file_rules"
        ],
        [
         "10",
         "pg_config"
        ],
        [
         "11",
         "pg_shmem_allocations"
        ],
        [
         "12",
         "pg_backend_memory_contexts"
        ],
        [
         "13",
         "pg_available_extension_versions"
        ],
        [
         "14",
         "pg_user_mapping"
        ],
        [
         "15",
         "pg_stat_xact_user_functions"
        ],
        [
         "16",
         "pg_replication_origin_status"
        ],
        [
         "17",
         "pg_subscription"
        ],
        [
         "18",
         "pg_attribute"
        ],
        [
         "19",
         "pg_proc"
        ],
        [
         "20",
         "pg_class"
        ],
        [
         "21",
         "pg_attrdef"
        ],
        [
         "22",
         "pg_constraint"
        ],
        [
         "23",
         "pg_inherits"
        ],
        [
         "24",
         "pg_index"
        ],
        [
         "25",
         "pg_operator"
        ],
        [
         "26",
         "pg_opfamily"
        ],
        [
         "27",
         "pg_opclass"
        ],
        [
         "28",
         "pg_am"
        ],
        [
         "29",
         "pg_amop"
        ],
        [
         "30",
         "pg_amproc"
        ],
        [
         "31",
         "pg_language"
        ],
        [
         "32",
         "pg_stat_archiver"
        ],
        [
         "33",
         "pg_stat_bgwriter"
        ],
        [
         "34",
         "pg_stat_wal"
        ],
        [
         "35",
         "pg_stat_progress_analyze"
        ],
        [
         "36",
         "pg_stat_progress_vacuum"
        ],
        [
         "37",
         "pg_stat_progress_cluster"
        ],
        [
         "38",
         "pg_stat_progress_create_index"
        ],
        [
         "39",
         "pg_stat_progress_basebackup"
        ],
        [
         "40",
         "pg_stat_progress_copy"
        ],
        [
         "41",
         "pg_largeobject_metadata"
        ],
        [
         "42",
         "pg_aggregate"
        ],
        [
         "43",
         "pg_statistic_ext"
        ],
        [
         "44",
         "pg_rewrite"
        ],
        [
         "45",
         "pg_trigger"
        ],
        [
         "46",
         "pg_event_trigger"
        ],
        [
         "47",
         "pg_description"
        ],
        [
         "48",
         "pg_cast"
        ],
        [
         "49",
         "pg_enum"
        ]
       ],
       "shape": {
        "columns": 1,
        "rows": 203
       }
      },
      "text/html": [
       "<div>\n",
       "<style scoped>\n",
       "    .dataframe tbody tr th:only-of-type {\n",
       "        vertical-align: middle;\n",
       "    }\n",
       "\n",
       "    .dataframe tbody tr th {\n",
       "        vertical-align: top;\n",
       "    }\n",
       "\n",
       "    .dataframe thead th {\n",
       "        text-align: right;\n",
       "    }\n",
       "</style>\n",
       "<table border=\"1\" class=\"dataframe\">\n",
       "  <thead>\n",
       "    <tr style=\"text-align: right;\">\n",
       "      <th></th>\n",
       "      <th>table_name</th>\n",
       "    </tr>\n",
       "  </thead>\n",
       "  <tbody>\n",
       "    <tr>\n",
       "      <th>0</th>\n",
       "      <td>pg_statistic</td>\n",
       "    </tr>\n",
       "    <tr>\n",
       "      <th>1</th>\n",
       "      <td>pg_type</td>\n",
       "    </tr>\n",
       "    <tr>\n",
       "      <th>2</th>\n",
       "      <td>pg_foreign_table</td>\n",
       "    </tr>\n",
       "    <tr>\n",
       "      <th>3</th>\n",
       "      <td>pg_authid</td>\n",
       "    </tr>\n",
       "    <tr>\n",
       "      <th>4</th>\n",
       "      <td>pg_shadow</td>\n",
       "    </tr>\n",
       "    <tr>\n",
       "      <th>...</th>\n",
       "      <td>...</td>\n",
       "    </tr>\n",
       "    <tr>\n",
       "      <th>198</th>\n",
       "      <td>foreign_servers</td>\n",
       "    </tr>\n",
       "    <tr>\n",
       "      <th>199</th>\n",
       "      <td>_pg_foreign_tables</td>\n",
       "    </tr>\n",
       "    <tr>\n",
       "      <th>200</th>\n",
       "      <td>user_mapping_options</td>\n",
       "    </tr>\n",
       "    <tr>\n",
       "      <th>201</th>\n",
       "      <td>foreign_tables</td>\n",
       "    </tr>\n",
       "    <tr>\n",
       "      <th>202</th>\n",
       "      <td>_pg_user_mappings</td>\n",
       "    </tr>\n",
       "  </tbody>\n",
       "</table>\n",
       "<p>203 rows × 1 columns</p>\n",
       "</div>"
      ],
      "text/plain": [
       "               table_name\n",
       "0            pg_statistic\n",
       "1                 pg_type\n",
       "2        pg_foreign_table\n",
       "3               pg_authid\n",
       "4               pg_shadow\n",
       "..                    ...\n",
       "198       foreign_servers\n",
       "199    _pg_foreign_tables\n",
       "200  user_mapping_options\n",
       "201        foreign_tables\n",
       "202     _pg_user_mappings\n",
       "\n",
       "[203 rows x 1 columns]"
      ]
     },
     "execution_count": 3,
     "metadata": {},
     "output_type": "execute_result"
    }
   ],
   "source": [
    "from app.clients.postgres import PostgreSQLClient\n",
    "\n",
    "pg = PostgreSQLClient()\n",
    "pg.connect()\n",
    "pg.execute_query(query=\"SELECT table_name FROM information_schema.tables\", return_df=True)"
   ]
  }
 ],
 "metadata": {
  "kernelspec": {
   "display_name": "py311",
   "language": "python",
   "name": "python3"
  },
  "language_info": {
   "codemirror_mode": {
    "name": "ipython",
    "version": 3
   },
   "file_extension": ".py",
   "mimetype": "text/x-python",
   "name": "python",
   "nbconvert_exporter": "python",
   "pygments_lexer": "ipython3",
   "version": "3.11.11"
  }
 },
 "nbformat": 4,
 "nbformat_minor": 5
}
